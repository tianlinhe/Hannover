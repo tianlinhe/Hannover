{
 "cells": [
  {
   "cell_type": "markdown",
   "metadata": {},
   "source": [
    "# I (Q1-Q2) Use of Python"
   ]
  },
  {
   "cell_type": "markdown",
   "metadata": {},
   "source": [
    "**Q1. (10 Marks) During a literature review, Lili found $10$ urinary peptides related to diabetes type I (listed in `db1`) and $12$ urinary peptides related to diabetes type II (listed in `db2`).** \n",
    "\n",
    "Use your knowledge in programming, extract the peptides that were **only** related to diabetes type I **but not** to diabetes type II. (If possible, hold these peptides in a python `list` with the name `db1s`)"
   ]
  },
  {
   "cell_type": "code",
   "execution_count": 8,
   "metadata": {},
   "outputs": [
    {
     "data": {
      "text/plain": [
       "['e00001', 'e00100', 'e00444', 'e01009']"
      ]
     },
     "execution_count": 8,
     "metadata": {},
     "output_type": "execute_result"
    }
   ],
   "source": [
    "db1=['e00001','e00002','e00020','e00030','e00100','e00444','e01009','e09000','e10000','e10001']\n",
    "db2=['e00301','e00002','e00020','e00030','e00101','e00400','e01000','e09000','e10000','e10001','e20002','e30003']\n",
    "# Please enter your codes below:\n",
    "\n",
    "db1s=[i for i in db1 if i not in db2]\n",
    "db1s       "
   ]
  },
  {
   "cell_type": "code",
   "execution_count": 9,
   "metadata": {},
   "outputs": [
    {
     "data": {
      "text/plain": [
       "['e00001', 'e00100', 'e00444', 'e01009']"
      ]
     },
     "execution_count": 9,
     "metadata": {},
     "output_type": "execute_result"
    }
   ],
   "source": [
    "# Remarks 1: set operation is also acceptable\n",
    "# Remarks 2: some of you wrote a nested for-loop plus list.append(), but fail to control its termination. \n",
    "# A possible nested for-loop can be:\n",
    "db1s=[]\n",
    "for i in db1:\n",
    "    for j in db2:\n",
    "        if i==j:\n",
    "            break\n",
    "    else:\n",
    "        db1s.append(i)\n",
    "db1s"
   ]
  },
  {
   "cell_type": "markdown",
   "metadata": {},
   "source": [
    "**Q2. (10 Marks) Lili called the peptides that you extracted in Q1 as \"diabetes I-specific peptides\", or in short, \"db1s peptides\". She learned that the name of the db1s peptides must be unified before entering in a SQL database, such that it is a 9-digit positive integer:**\n",
    "\n",
    "|old name|new name|\n",
    "|:------:|:------:|\n",
    "|e00001|99900001|\n",
    "|...|...|\n",
    "|e99999|99999999|\n",
    "\n",
    "Use your knowledge in programming, help Lili to convert the names of the db1s-peptides. (If possible, hold these peptides in a python `list` with the name `db1s`)"
   ]
  },
  {
   "cell_type": "code",
   "execution_count": 10,
   "metadata": {},
   "outputs": [
    {
     "data": {
      "text/plain": [
       "[99900001, 99900100, 99900444, 99901009]"
      ]
     },
     "execution_count": 10,
     "metadata": {},
     "output_type": "execute_result"
    }
   ],
   "source": [
    "# Please enter your codes below:\n",
    "db1s=[99900000+int(i[1:]) for i in db1s]\n",
    "db1s\n",
    "# Remarks: any equivalent operations are acceptable"
   ]
  },
  {
   "cell_type": "markdown",
   "metadata": {},
   "source": [
    "# II (Q3-Q5) Biostatistics"
   ]
  },
  {
   "cell_type": "markdown",
   "metadata": {},
   "source": [
    "**Q3. (10 Marks) Lili received 100 urine samples from a local hospital. For each db1s peptide, Lili measured its abundance in four *randomly-selected samples* from the 100 samples, and calculated the *mean* of the four measurements. However, her supervisor thought that her analysis in 4 samples was not so informative and adviced her to measure the abundances of the same peptides in all 100 samples. Assume that for the 4-sample analysis, the mean abundance of peptide A was $100\\pm 20$ (unitless), where 20 was the standard deviation.**\n",
    "\n",
    "1. (5 Marks) Can you estimate the mean abundance of peptide A in the 100-sample analysis? Will it be smaller or larger than 100?\n",
    "2. (5 Marks) Can you estimate the standard deviation of peptide A abudance in the 100-sample analysis? Will it be smaller or larger than 20?"
   ]
  },
  {
   "cell_type": "raw",
   "metadata": {},
   "source": [
    "# please enter your answer below:\n",
    "1.  The estimated mean abundance of peptide A in the 100-sample analysis is 100\n",
    "2.  The estimated standard deviation of peptide A abudance in the 100-sample analysis is smaller than 20"
   ]
  },
  {
   "cell_type": "markdown",
   "metadata": {},
   "source": [
    "**Q4. (10 Marks) Lili just received the age the 100 patients and plotted its probability density function (Run the below trunk to see it). What can you say about the distribution of age? It is likely a:**\n",
    "1. Binomial distribution\n",
    "2. Hypergeometrical distribution\n",
    "3. Standard normal distribution\n",
    "4. Uniform distribution\n",
    "5. None of the above"
   ]
  },
  {
   "cell_type": "code",
   "execution_count": 18,
   "metadata": {},
   "outputs": [
    {
     "data": {
      "image/png": "[encoded data removed]",
      "text/plain": [
       "<Figure size 432x288 with 1 Axes>"
      ]
     },
     "metadata": {
      "needs_background": "light"
     },
     "output_type": "display_data"
    }
   ],
   "source": [
    "import numpy as np\n",
    "from matplotlib import pyplot as plt\n",
    "\n",
    "x=np.linspace(45,95,100)\n",
    "sigma=10\n",
    "u=70\n",
    "y=np.power(2*np.pi*sigma**2,-0.5)*np.exp(-(x-u)**2/(2*sigma**2))\n",
    "plt.scatter(x,y)\n",
    "plt.xlabel('Age (yrs)')\n",
    "plt.ylabel('P')\n",
    "plt.ylim(0,0.05)\n",
    "plt.title('Distribution of age in 100 patients\\n')\n",
    "plt.show()"
   ]
  },
  {
   "cell_type": "raw",
   "metadata": {},
   "source": [
    "# please enter your answer below:\n",
    "5. None of the above\n",
    "# Remarks: it is a normal distribution \n",
    "# (distinguish between a normal distribution and a standard normal distribution)"
   ]
  },
  {
   "cell_type": "markdown",
   "metadata": {},
   "source": [
    "**Q5. (10 Marks) Lili went on and investigated the correlation of peptide A to age using linear regression. Her null hypothesis is that peptide A is NOT correlated to age. The `linear regressor` from the `scikit-learn` package reported, that the p-value of peptide A was smaller than 0.05.**\n",
    "1. (5 Marks) What can you say about the result? Can you accept the null hypothesis?\n",
    "2. (5 Marks) What is the potential \"danger\" of the interpretation, when she tested a large number of candidate peptides? (*Hint*: multiple testing)"
   ]
  },
  {
   "cell_type": "raw",
   "metadata": {},
   "source": [
    "# please enter your answer below:\n",
    "1. You can reject the null hypothesis, if you accept a minimum false positive rate at 0.05\n",
    "2. You will have some peptides with a small p-value merely by chance,\n",
    "the minimum false positive rate becomes larger than 0.05"
   ]
  },
  {
   "cell_type": "markdown",
   "metadata": {},
   "source": [
    "# III (Q6-Q10) Algorithm\n",
    "* Unless specified, do not use any built-in functions or imported packages\n",
    "* Unless specified, answers without codes will NOT be marked\n",
    "* Please try your best to provide implementable codes; if not, show your pseudocodes \n",
    "* Codes will be evaluated based on efficiency"
   ]
  },
  {
   "cell_type": "markdown",
   "metadata": {},
   "source": [
    "**Q6. (10 Marks) For a given array `arr1`, give a subarray whose element x is smaller than 14 but at least 10 for all x.**"
   ]
  },
  {
   "cell_type": "code",
   "execution_count": 11,
   "metadata": {},
   "outputs": [
    {
     "data": {
      "text/plain": [
       "[11.560473534034164,\n",
       " 12.034773553111448,\n",
       " 12.41096730721645,\n",
       " 11.704502647061025,\n",
       " 10.760146894797751,\n",
       " 10.9872371114915,\n",
       " 10.21214611175769,\n",
       " 10.34847359294967,\n",
       " 11.180290134403005,\n",
       " 12.584101053111041,\n",
       " 10.656164335669294,\n",
       " 10.618457812383046,\n",
       " 12.319961182635161,\n",
       " 10.538369333244722,\n",
       " 13.321047419835832,\n",
       " 11.079508694147368,\n",
       " 11.018139817396907,\n",
       " 11.921637735397539,\n",
       " 13.238980525727865,\n",
       " 12.925702780649676,\n",
       " 11.040694762500383,\n",
       " 13.064765404612924,\n",
       " 12.552625154485618,\n",
       " 13.15269157965326,\n",
       " 11.136113079563062,\n",
       " 11.135357779304869,\n",
       " 12.582082869712256,\n",
       " 10.273466430093569,\n",
       " 10.288274981451629,\n",
       " 11.121902231165862,\n",
       " 12.875820568053374,\n",
       " 11.032802070966357,\n",
       " 11.61247719719581,\n",
       " 10.304978115860305,\n",
       " 13.04308798619468,\n",
       " 10.930289287005046,\n",
       " 10.820129325261224,\n",
       " 10.016064397822404]"
      ]
     },
     "execution_count": 11,
     "metadata": {},
     "output_type": "execute_result"
    }
   ],
   "source": [
    "import numpy as np\n",
    "rng=np.random.RandomState(42)\n",
    "arr1=rng.normal(10,np.pi,100)\n",
    "\n",
    "# please enter your codes below:\n",
    "arr_sub=[]\n",
    "for i in arr1:\n",
    "    if 10<=i<14:\n",
    "        arr_sub.append(i)\n",
    "arr_sub  "
   ]
  },
  {
   "cell_type": "code",
   "execution_count": 16,
   "metadata": {},
   "outputs": [
    {
     "data": {
      "text/plain": [
       "array([11.56047353, 12.03477355, 12.41096731, 11.70450265, 10.76014689,\n",
       "       10.98723711, 10.21214611, 10.34847359, 11.18029013, 12.58410105,\n",
       "       10.65616434, 10.61845781, 12.31996118, 10.53836933, 13.32104742,\n",
       "       11.07950869, 11.01813982, 11.92163774, 13.23898053, 12.92570278,\n",
       "       11.04069476, 13.0647654 , 12.55262515, 13.15269158, 11.13611308,\n",
       "       11.13535778, 12.58208287, 10.27346643, 10.28827498, 11.12190223,\n",
       "       12.87582057, 11.03280207, 11.6124772 , 10.30497812, 13.04308799,\n",
       "       10.93028929, 10.82012933, 10.0160644 ])"
      ]
     },
     "execution_count": 16,
     "metadata": {},
     "output_type": "execute_result"
    }
   ],
   "source": [
    "# Remarks: masking operation in numpy is also acceptable\n",
    "arr_sub=arr1[(arr1<14)&(arr1>=10)]\n",
    "arr_sub"
   ]
  },
  {
   "cell_type": "markdown",
   "metadata": {},
   "source": [
    "**Q7. (10 Marks) Find the maximum of the given array `arr1`.** "
   ]
  },
  {
   "cell_type": "code",
   "execution_count": 12,
   "metadata": {},
   "outputs": [
    {
     "data": {
      "text/plain": [
       "15.819103536857918"
      ]
     },
     "execution_count": 12,
     "metadata": {},
     "output_type": "execute_result"
    }
   ],
   "source": [
    "import numpy as np\n",
    "rng=np.random.RandomState(42)\n",
    "arr1=rng.normal(10,np.pi,100)\n",
    "\n",
    "# please enter your codes below\n",
    "# do not use: np.max or any equivalent\n",
    "maxi=arr1[1]\n",
    "for i in arr1[1:]:\n",
    "    if i>maxi:\n",
    "        maxi=i\n",
    "maxi\n",
    "# Remarks: sort operation is NOT acceptable"
   ]
  },
  {
   "cell_type": "markdown",
   "metadata": {},
   "source": [
    "**Q8. (10 Marks) Calculate the factorial of 15.** \n",
    "\n",
    "Remarks: $15!=15\\times 14 \\times 13 \\times ... \\times 1$"
   ]
  },
  {
   "cell_type": "code",
   "execution_count": 14,
   "metadata": {},
   "outputs": [
    {
     "data": {
      "text/plain": [
       "1307674368000"
      ]
     },
     "execution_count": 14,
     "metadata": {},
     "output_type": "execute_result"
    }
   ],
   "source": [
    "# please enter your codes below:\n",
    "def factorial(n):\n",
    "    i=1\n",
    "    for j in range(2,n+1):\n",
    "        i=i*j\n",
    "    return i\n",
    "factorial(15)        "
   ]
  },
  {
   "cell_type": "markdown",
   "metadata": {},
   "source": [
    "**Q9. (10 Marks) A Fibonacci number $F_n$ is defined as the sum of its two preceding terms, that is:\n",
    "$F_n=F_{(n-1)}+F_{(n-2)}$. By definition, the first two Fibonacci numbers are $F_0=0$ and $F_1=1$. The beginning of the Fibonacci series is:**\n",
    "<h5><center>$0,1,1,2,3,5,8,13,21...$</center></h5>\n",
    "\n",
    "**Give the value of $F_{30}$.**"
   ]
  },
  {
   "cell_type": "code",
   "execution_count": 14,
   "metadata": {},
   "outputs": [
    {
     "data": {
      "text/plain": [
       "832040"
      ]
     },
     "execution_count": 14,
     "metadata": {},
     "output_type": "execute_result"
    }
   ],
   "source": [
    "# Correction: there is a typo in the original question: \n",
    "# the beginning of the Fibonacci series should be 0,1,1,2,3,5,...\n",
    "def fibonacci(n):\n",
    "    if n==0: \n",
    "        return 0\n",
    "    if n==1:\n",
    "        return 1\n",
    "    fib_series=[0]*(n+1)\n",
    "    fib_series[1]=1 \n",
    "    for i in range(2,n+1):\n",
    "        fib_series[i]=fib_series[i-1]+fib_series[i-2]   \n",
    "    return fib_series[n]\n",
    "fibonacci(30)"
   ]
  },
  {
   "cell_type": "code",
   "execution_count": 12,
   "metadata": {},
   "outputs": [
    {
     "data": {
      "text/plain": [
       "832040"
      ]
     },
     "execution_count": 12,
     "metadata": {},
     "output_type": "execute_result"
    }
   ],
   "source": [
    "# Remarks: answer(s) in recursion is also acceptable\n",
    "def fibonacci_(n):\n",
    "    if n==0:\n",
    "        return 0\n",
    "    if n==1:\n",
    "        return 1\n",
    "    return fibonacci_(n-1)+fibonacci_(n-2)\n",
    "fibonacci_(30)"
   ]
  },
  {
   "cell_type": "markdown",
   "metadata": {},
   "source": [
    "**Q10. (10 Marks) On a rectangular $4\\times 3$ grid, an ant wants to walk from the North-west vertex A, to the South-east vertex B (run the below chrunk to see). It can only walk either east or south-ward, with the length of a step equals to 1.** \n",
    "1. (5 Marks) How many possible routes can it take? (*Please give your answer directly, no codes are required*)\n",
    "2. (5 Marks) List all the possible routes it can take. You may give the results in any readable and consistent form you prefer. For example, the route with 5 steps East followed by 3 steps South can be expressed as: \n",
    "    * a string `'EEEESSS'` \n",
    "    * a string `'1111000'`\n",
    "    * an integer $1111000$\n",
    "    * a list `[1,1,1,1,0,0,0]`\n",
    "    * a tuple `('1','1','1','1','0','0','0')`\n",
    "    * ...\n",
    "    "
   ]
  },
  {
   "cell_type": "code",
   "execution_count": 2,
   "metadata": {},
   "outputs": [
    {
     "data": {
      "image/png": "[encoded data removed]",
      "text/plain": [
       "<Figure size 432x288 with 1 Axes>"
      ]
     },
     "metadata": {
      "needs_background": "light"
     },
     "output_type": "display_data"
    }
   ],
   "source": [
    "from matplotlib import pyplot as plt\n",
    "import numpy as np\n",
    "plt.scatter(4,0,s=200)\n",
    "plt.scatter(0,3,s=200)\n",
    "plt.text(0.4,3,'A',fontsize=20,va='center')\n",
    "plt.text(3.6,0,'B',fontsize=20,va='center')\n",
    "plt.xticks(np.arange(5))\n",
    "plt.yticks(np.arange(4))\n",
    "plt.grid()\n",
    "plt.show()"
   ]
  },
  {
   "cell_type": "raw",
   "metadata": {},
   "source": [
    "1. number of possible routes = 7C3 = 35\n",
    "# Remarks: there are in total 4+3=7 steps, in which the ant walk one step towards south exactly three times.\n",
    "# That is, once it chooses where to head south, the remaining four steps are towards east. The total number\n",
    "# of steps is thus the combinations of 3 south-steps in a total of 7 steps (equivalently, the combinations of \n",
    "# 4-east steps in a total of 7 steps, we know anyway that 7C3=7C4)."
   ]
  },
  {
   "cell_type": "code",
   "execution_count": 4,
   "metadata": {},
   "outputs": [
    {
     "name": "stdout",
     "output_type": "stream",
     "text": [
      "['S', 'S', 'S', 'E', 'E', 'E', 'E']\n",
      "['S', 'S', 'E', 'S', 'E', 'E', 'E']\n",
      "['S', 'S', 'E', 'E', 'S', 'E', 'E']\n",
      "['S', 'S', 'E', 'E', 'E', 'S', 'E']\n",
      "['S', 'S', 'E', 'E', 'E', 'E', 'S']\n",
      "['S', 'E', 'S', 'S', 'E', 'E', 'E']\n",
      "['S', 'E', 'S', 'E', 'S', 'E', 'E']\n",
      "['S', 'E', 'S', 'E', 'E', 'S', 'E']\n",
      "['S', 'E', 'S', 'E', 'E', 'E', 'S']\n",
      "['S', 'E', 'E', 'S', 'S', 'E', 'E']\n",
      "['S', 'E', 'E', 'S', 'E', 'S', 'E']\n",
      "['S', 'E', 'E', 'S', 'E', 'E', 'S']\n",
      "['S', 'E', 'E', 'E', 'S', 'S', 'E']\n",
      "['S', 'E', 'E', 'E', 'S', 'E', 'S']\n",
      "['S', 'E', 'E', 'E', 'E', 'S', 'S']\n",
      "['E', 'S', 'S', 'S', 'E', 'E', 'E']\n",
      "['E', 'S', 'S', 'E', 'S', 'E', 'E']\n",
      "['E', 'S', 'S', 'E', 'E', 'S', 'E']\n",
      "['E', 'S', 'S', 'E', 'E', 'E', 'S']\n",
      "['E', 'S', 'E', 'S', 'S', 'E', 'E']\n",
      "['E', 'S', 'E', 'S', 'E', 'S', 'E']\n",
      "['E', 'S', 'E', 'S', 'E', 'E', 'S']\n",
      "['E', 'S', 'E', 'E', 'S', 'S', 'E']\n",
      "['E', 'S', 'E', 'E', 'S', 'E', 'S']\n",
      "['E', 'S', 'E', 'E', 'E', 'S', 'S']\n",
      "['E', 'E', 'S', 'S', 'S', 'E', 'E']\n",
      "['E', 'E', 'S', 'S', 'E', 'S', 'E']\n",
      "['E', 'E', 'S', 'S', 'E', 'E', 'S']\n",
      "['E', 'E', 'S', 'E', 'S', 'S', 'E']\n",
      "['E', 'E', 'S', 'E', 'S', 'E', 'S']\n",
      "['E', 'E', 'S', 'E', 'E', 'S', 'S']\n",
      "['E', 'E', 'E', 'S', 'S', 'S', 'E']\n",
      "['E', 'E', 'E', 'S', 'S', 'E', 'S']\n",
      "['E', 'E', 'E', 'S', 'E', 'S', 'S']\n",
      "['E', 'E', 'E', 'E', 'S', 'S', 'S']\n"
     ]
    }
   ],
   "source": [
    "def get_route(indices,n):\n",
    "    route=['E']*n\n",
    "    for i in indices:\n",
    "        route[i]='S'\n",
    "    return route\n",
    "\n",
    "def combinations(n, r):\n",
    "    indices = list(range(r)) \n",
    "    print (get_route(indices,n))\n",
    "    count=1\n",
    "    while True:\n",
    "        for i in reversed(range(r)):\n",
    "            if indices[i] != i + n - r:\n",
    "                break\n",
    "        else:\n",
    "            return\n",
    "        indices[i] += 1\n",
    "        for j in range(i+1, r):\n",
    "            indices[j] = indices[j-1] + 1\n",
    "        print (get_route(indices,n))\n",
    "    \n",
    "combinations(7,3)"
   ]
  },
  {
   "cell_type": "code",
   "execution_count": 19,
   "metadata": {},
   "outputs": [
    {
     "name": "stdout",
     "output_type": "stream",
     "text": [
      "['E', 'E', 'E', 'E', 'S', 'S', 'S']\n",
      "['E', 'E', 'E', 'S', 'E', 'S', 'S']\n",
      "['E', 'E', 'E', 'S', 'S', 'E', 'S']\n",
      "['E', 'E', 'E', 'S', 'S', 'S', 'E']\n",
      "['E', 'E', 'S', 'E', 'E', 'S', 'S']\n",
      "['E', 'E', 'S', 'E', 'S', 'E', 'S']\n",
      "['E', 'E', 'S', 'E', 'S', 'S', 'E']\n",
      "['E', 'E', 'S', 'S', 'E', 'E', 'S']\n",
      "['E', 'E', 'S', 'S', 'E', 'S', 'E']\n",
      "['E', 'E', 'S', 'S', 'S', 'E', 'E']\n",
      "['E', 'S', 'E', 'E', 'E', 'S', 'S']\n",
      "['E', 'S', 'E', 'E', 'S', 'E', 'S']\n",
      "['E', 'S', 'E', 'E', 'S', 'S', 'E']\n",
      "['E', 'S', 'E', 'S', 'E', 'E', 'S']\n",
      "['E', 'S', 'E', 'S', 'E', 'S', 'E']\n",
      "['E', 'S', 'E', 'S', 'S', 'E', 'E']\n",
      "['E', 'S', 'S', 'E', 'E', 'E', 'S']\n",
      "['E', 'S', 'S', 'E', 'E', 'S', 'E']\n",
      "['E', 'S', 'S', 'E', 'S', 'E', 'E']\n",
      "['E', 'S', 'S', 'S', 'E', 'E', 'E']\n",
      "['S', 'E', 'E', 'E', 'E', 'S', 'S']\n",
      "['S', 'E', 'E', 'E', 'S', 'E', 'S']\n",
      "['S', 'E', 'E', 'E', 'S', 'S', 'E']\n",
      "['S', 'E', 'E', 'S', 'E', 'E', 'S']\n",
      "['S', 'E', 'E', 'S', 'E', 'S', 'E']\n",
      "['S', 'E', 'E', 'S', 'S', 'E', 'E']\n",
      "['S', 'E', 'S', 'E', 'E', 'E', 'S']\n",
      "['S', 'E', 'S', 'E', 'E', 'S', 'E']\n",
      "['S', 'E', 'S', 'E', 'S', 'E', 'E']\n",
      "['S', 'E', 'S', 'S', 'E', 'E', 'E']\n",
      "['S', 'S', 'E', 'E', 'E', 'E', 'S']\n",
      "['S', 'S', 'E', 'E', 'E', 'S', 'E']\n",
      "['S', 'S', 'E', 'E', 'S', 'E', 'E']\n",
      "['S', 'S', 'E', 'S', 'E', 'E', 'E']\n",
      "['S', 'S', 'S', 'E', 'E', 'E', 'E']\n"
     ]
    }
   ],
   "source": [
    "# Remarks: answer(s) in recursion is also acceptable\n",
    "def f(m, n, a):\n",
    "    if m==0 and n==0:\n",
    "        print (a)\n",
    "        return\n",
    "    if m > 0 and n >0:\n",
    "        a.append('E')\n",
    "        f(m-1, n, a)\n",
    "        a.pop()\n",
    "        a.append('S')\n",
    "        f(m, n-1, a)\n",
    "        a.pop()\n",
    "    elif m == 0 and n >0:\n",
    "        a.append('S')\n",
    "        f(m, n-1, a)\n",
    "        a.pop()\n",
    "    else:\n",
    "        a.append('E')\n",
    "        f(m-1, n, a)\n",
    "        a.pop()\n",
    "    \n",
    "a = []\n",
    "f(4, 3, a)"
   ]
  }
 ],
 "metadata": {
  "kernelspec": {
   "display_name": "Python 3",
   "language": "python",
   "name": "python3"
  },
  "language_info": {
   "codemirror_mode": {
    "name": "ipython",
    "version": 3
   },
   "file_extension": ".py",
   "mimetype": "text/x-python",
   "name": "python",
   "nbconvert_exporter": "python",
   "pygments_lexer": "ipython3",
   "version": "3.7.0"
  }
 },
 "nbformat": 4,
 "nbformat_minor": 2
}
